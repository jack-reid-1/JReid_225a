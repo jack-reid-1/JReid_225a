{
  "nbformat": 4,
  "nbformat_minor": 0,
  "metadata": {
    "colab": {
      "provenance": [],
      "authorship_tag": "ABX9TyMkcKQc5iUCgo80aORMtpsa",
      "include_colab_link": true
    },
    "kernelspec": {
      "name": "python3",
      "display_name": "Python 3"
    },
    "language_info": {
      "name": "python"
    }
  },
  "cells": [
    {
      "cell_type": "markdown",
      "metadata": {
        "id": "view-in-github",
        "colab_type": "text"
      },
      "source": [
        "<a href=\"https://colab.research.google.com/github/jack-reid-1/JReid_225a/blob/main/Lecture_10_8.ipynb\" target=\"_parent\"><img src=\"https://colab.research.google.com/assets/colab-badge.svg\" alt=\"Open In Colab\"/></a>"
      ]
    },
    {
      "cell_type": "code",
      "execution_count": 4,
      "metadata": {
        "id": "k9jsMZjYnSby"
      },
      "outputs": [],
      "source": [
        "gene_name = 'KRAS'"
      ]
    },
    {
      "cell_type": "code",
      "source": [
        "x = 5\n",
        "x = x + 2\n",
        "# x = x - 2\n",
        "gene_name = gene_name + '>'\n",
        "x = gene_name*x\n",
        "print(x)"
      ],
      "metadata": {
        "colab": {
          "base_uri": "https://localhost:8080/"
        },
        "id": "F5b5pHHVnZGi",
        "outputId": "f4b2131c-dc40-481d-9cc2-56bea9db05fe"
      },
      "execution_count": 6,
      "outputs": [
        {
          "output_type": "stream",
          "name": "stdout",
          "text": [
            "KRAS>>KRAS>>KRAS>>KRAS>>KRAS>>KRAS>>KRAS>>\n"
          ]
        }
      ]
    },
    {
      "cell_type": "code",
      "source": [
        "gene_expression = 54"
      ],
      "metadata": {
        "id": "7PZBnbJroNj2"
      },
      "execution_count": 13,
      "outputs": []
    },
    {
      "cell_type": "code",
      "source": [
        "if gene_expression<=0:\n",
        "  print('the gene is not expressed')\n",
        "else:\n",
        "  if gene_expression>0:\n",
        "    print('the gene is expressed')\n",
        "  if gene_expression>50:\n",
        "    print('the gene is highly expressed')"
      ],
      "metadata": {
        "colab": {
          "base_uri": "https://localhost:8080/"
        },
        "id": "pyyFj07DoJWf",
        "outputId": "e68a5d20-7c81-4995-9803-98e6ed0b751b"
      },
      "execution_count": 15,
      "outputs": [
        {
          "output_type": "stream",
          "name": "stdout",
          "text": [
            "the gene is expressed\n",
            "the gene is highly expressed\n"
          ]
        }
      ]
    },
    {
      "cell_type": "code",
      "source": [
        "number = 0\n",
        "# iteration 1\n",
        "print(number)\n",
        "number = number +1\n",
        "\n",
        "# iteration 2\n",
        "print(number)\n",
        "number = number +1\n",
        "\n",
        "# iteration 3\n",
        "print(number)\n",
        "number = number +1\n",
        "\n",
        "#this is repetitve, very slow"
      ],
      "metadata": {
        "colab": {
          "base_uri": "https://localhost:8080/"
        },
        "id": "5zeV7qEjo6AI",
        "outputId": "5cea1924-6c95-41d3-a31d-90ceab090456"
      },
      "execution_count": 16,
      "outputs": [
        {
          "output_type": "stream",
          "name": "stdout",
          "text": [
            "0\n",
            "1\n",
            "2\n"
          ]
        }
      ]
    },
    {
      "cell_type": "code",
      "source": [
        "number = 0 # start at 0\n",
        "while number < 3:\n",
        "  number = number +1\n",
        "  print(number)\n",
        "  # while loop"
      ],
      "metadata": {
        "colab": {
          "base_uri": "https://localhost:8080/"
        },
        "id": "vQhfsl2gpZIf",
        "outputId": "231f2405-232f-4ae4-a0b4-4f8bcdcebab1"
      },
      "execution_count": 19,
      "outputs": [
        {
          "output_type": "stream",
          "name": "stdout",
          "text": [
            "1\n",
            "2\n",
            "3\n"
          ]
        }
      ]
    },
    {
      "cell_type": "code",
      "source": [
        "for number in range(3):\n",
        "  print(number)\n",
        "  # for loop"
      ],
      "metadata": {
        "colab": {
          "base_uri": "https://localhost:8080/"
        },
        "id": "0P_UiLcqpfrR",
        "outputId": "e778d509-55b9-4284-cf52-161564cd2c6d"
      },
      "execution_count": 20,
      "outputs": [
        {
          "output_type": "stream",
          "name": "stdout",
          "text": [
            "0\n",
            "1\n",
            "2\n"
          ]
        }
      ]
    },
    {
      "cell_type": "markdown",
      "source": [
        "For loops are more controllable than the while loop can get out of control if there is a mistake, causing it to continue for a long time and crash your computer."
      ],
      "metadata": {
        "id": "C-7VtQ1op863"
      }
    },
    {
      "cell_type": "code",
      "source": [
        "### Define the function:\n",
        "def add_and_scale(x, y, scale_param = 1):\n",
        "  result = ( x + y ) * scale_param\n",
        "  return result"
      ],
      "metadata": {
        "id": "ImwaWKsWpzFr"
      },
      "execution_count": 21,
      "outputs": []
    },
    {
      "cell_type": "code",
      "source": [
        "add_and_scale(2, 3, 3)"
      ],
      "metadata": {
        "colab": {
          "base_uri": "https://localhost:8080/"
        },
        "id": "trA9FTGarCJZ",
        "outputId": "9a2e6209-ca5c-41bb-b589-1560b665f7d3"
      },
      "execution_count": 23,
      "outputs": [
        {
          "output_type": "execute_result",
          "data": {
            "text/plain": [
              "15"
            ]
          },
          "metadata": {},
          "execution_count": 23
        }
      ]
    },
    {
      "cell_type": "code",
      "source": [
        "# list\n",
        "fruit_list = ['kiwi', 'lemon', 'orange', 'strawberry', 'lemon', 'lemon']"
      ],
      "metadata": {
        "id": "0FGp0l7kr03S"
      },
      "execution_count": 25,
      "outputs": []
    },
    {
      "cell_type": "code",
      "source": [
        "fruit_list[2]"
      ],
      "metadata": {
        "colab": {
          "base_uri": "https://localhost:8080/",
          "height": 35
        },
        "id": "-KTqFh0Er_m6",
        "outputId": "678841b8-30c4-4e79-d3de-f038d200d871"
      },
      "execution_count": 26,
      "outputs": [
        {
          "output_type": "execute_result",
          "data": {
            "text/plain": [
              "'orange'"
            ],
            "application/vnd.google.colaboratory.intrinsic+json": {
              "type": "string"
            }
          },
          "metadata": {},
          "execution_count": 26
        }
      ]
    },
    {
      "cell_type": "code",
      "source": [
        "# set\n",
        "fruit_set = {'lemon', 'kiwi', 'strawberry', 'orange'}\n",
        "fruit_set.intersection({'kiwi', 'apple'})"
      ],
      "metadata": {
        "colab": {
          "base_uri": "https://localhost:8080/"
        },
        "id": "et5FWmNcsEYZ",
        "outputId": "1f042d5b-d284-4c6a-cdd9-7e4fe47e5052"
      },
      "execution_count": 27,
      "outputs": [
        {
          "output_type": "execute_result",
          "data": {
            "text/plain": [
              "{'kiwi'}"
            ]
          },
          "metadata": {},
          "execution_count": 27
        }
      ]
    },
    {
      "cell_type": "code",
      "source": [
        "# dictionary\n",
        "fruit = (input('What fruit: '))\n",
        "fruit_to_color = {'kiwi' : 'green', 'strawberry' : 'red', 'lemon' : 'yellow',\n",
        "                  'orange' : 'orange'}\n",
        "fruit_to_color[fruit]"
      ],
      "metadata": {
        "colab": {
          "base_uri": "https://localhost:8080/",
          "height": 52
        },
        "id": "9H0XWVDwseCd",
        "outputId": "3d9db01c-e7af-4407-b1b8-d097095770f7"
      },
      "execution_count": 35,
      "outputs": [
        {
          "name": "stdout",
          "output_type": "stream",
          "text": [
            "What fruit: kiwi\n"
          ]
        },
        {
          "output_type": "execute_result",
          "data": {
            "text/plain": [
              "'green'"
            ],
            "application/vnd.google.colaboratory.intrinsic+json": {
              "type": "string"
            }
          },
          "metadata": {},
          "execution_count": 35
        }
      ]
    },
    {
      "cell_type": "code",
      "source": [
        "import pandas as pd"
      ],
      "metadata": {
        "id": "vW2NJyxutDij"
      },
      "execution_count": 36,
      "outputs": []
    }
  ]
}